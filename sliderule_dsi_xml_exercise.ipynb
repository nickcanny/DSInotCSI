{
 "cells": [
  {
   "cell_type": "raw",
   "metadata": {
    "collapsed": false
   },
   "source": [
    "# XML example and exercise\n",
    "****\n",
    "+ study examples of accessing nodes in XML tree structure  \n",
    "+ work on exercise to be completed and submitted\n",
    "****\n",
    "+ reference: https://docs.python.org/2.7/library/xml.etree.elementtree.html\n",
    "+ data source: http://www.dbis.informatik.uni-goettingen.de/Mondial\n",
    "****"
   ]
  },
  {
   "cell_type": "code",
   "execution_count": 1,
   "metadata": {
    "collapsed": false
   },
   "outputs": [],
   "source": [
    "from xml.etree import ElementTree as ET"
   ]
  },
  {
   "cell_type": "markdown",
   "metadata": {},
   "source": [
    "## XML example\n",
    "\n",
    "+ for details about tree traversal and iterators, see https://docs.python.org/2.7/library/xml.etree.elementtree.html"
   ]
  },
  {
   "cell_type": "code",
   "execution_count": 2,
   "metadata": {
    "collapsed": true
   },
   "outputs": [],
   "source": [
    "document_tree = ET.parse( './data/mondial_database_less.xml' )"
   ]
  },
  {
   "cell_type": "code",
   "execution_count": 3,
   "metadata": {
    "collapsed": false
   },
   "outputs": [
    {
     "name": "stdout",
     "output_type": "stream",
     "text": [
      "Albania\n",
      "Greece\n",
      "Macedonia\n",
      "Serbia\n",
      "Montenegro\n",
      "Kosovo\n",
      "Andorra\n"
     ]
    }
   ],
   "source": [
    "# print names of all countries\n",
    "for child in document_tree.getroot():\n",
    "    print child.find('name').text"
   ]
  },
  {
   "cell_type": "code",
   "execution_count": 4,
   "metadata": {
    "collapsed": false
   },
   "outputs": [
    {
     "name": "stdout",
     "output_type": "stream",
     "text": [
      "* Albania: Tirana, Shkodër, Durrës, Vlorë, Elbasan, Korçë\n",
      "* Greece: Komotini, Kavala, Athina, Peiraias, Peristeri, Acharnes, Patra, Kozani, Kerkyra, Ioannina, Thessaloniki, Iraklio, Chania, Ermoupoli, Rhodes, Tripoli, Lamia, Chalkida, Larissa, Volos, Mytilini, Karyes\n",
      "* Macedonia: Skopje, Kumanovo\n",
      "* Serbia: Beograd, Novi Sad, Niš\n",
      "* Montenegro: Podgorica\n",
      "* Kosovo: Prishtine\n",
      "* Andorra: Andorra la Vella\n"
     ]
    }
   ],
   "source": [
    "# print names of all countries and their cities\n",
    "for element in document_tree.iterfind('country'):\n",
    "    print '* ' + element.find('name').text + ':',\n",
    "    capitals_string = ''\n",
    "    for subelement in element.getiterator('city'):\n",
    "        capitals_string += subelement.find('name').text + ', '\n",
    "    print capitals_string[:-2]"
   ]
  },
  {
   "cell_type": "markdown",
   "metadata": {},
   "source": [
    "****\n",
    "## XML exercise\n",
    "\n",
    "Using data in 'data/mondial_database.xml', the examples above, and refering to https://docs.python.org/2.7/library/xml.etree.elementtree.html, find\n",
    "\n",
    "1. 10 countries with the lowest infant mortality rates\n",
    "2. 10 cities with the largest population\n",
    "3. 10 ethnic groups with the largest overall populations (sum of best/latest estimates over all countries)\n",
    "4. name and country of a) longest river, b) largest lake and c) airport at highest elevation"
   ]
  },
  {
   "cell_type": "code",
   "execution_count": 5,
   "metadata": {
    "collapsed": false
   },
   "outputs": [],
   "source": [
    "doc = ET.parse( './data/mondial_database.xml' )\n",
    "root = doc.getroot()"
   ]
  },
  {
   "cell_type": "raw",
   "metadata": {},
   "source": [
    "10 Countries w/ lowest infant mortality rates:"
   ]
  },
  {
   "cell_type": "code",
   "execution_count": 6,
   "metadata": {
    "collapsed": false,
    "scrolled": true
   },
   "outputs": [
    {
     "name": "stdout",
     "output_type": "stream",
     "text": [
      "[('1.81', 'Monaco'), ('10.16', 'Romania'), ('10.2', 'Fiji'), ('10.48', 'Brunei'), ('10.5', 'Grenada'), ('10.59', 'Mauritius'), ('10.7', 'Panama'), ('10.77', 'Seychelles'), ('10.92', 'United Arab Emirates'), ('10.93', 'Barbados')]\n"
     ]
    }
   ],
   "source": [
    "InfantMortality = []\n",
    "for baby in root.findall('country'):\n",
    "    try:\n",
    "        bd = baby.find('name').text\n",
    "        size = baby.find('infant_mortality').text\n",
    "        InfantMortality.append((size, bd))\n",
    "    except:\n",
    "        continue\n",
    "InfantMortality.sort()\n",
    "print InfantMortality[0:10]"
   ]
  },
  {
   "cell_type": "raw",
   "metadata": {},
   "source": [
    "10 Cities w/ largest population"
   ]
  },
  {
   "cell_type": "code",
   "execution_count": 7,
   "metadata": {
    "collapsed": false
   },
   "outputs": [
    {
     "name": "stdout",
     "output_type": "stream",
     "text": [
      "['Mokpo', 'Jeju', 'Gunsan', 'Chuncheon', 'Yeosu', 'Goyang', 'Yongin', 'Bucheon', 'Ansan', 'Anyang']\n"
     ]
    }
   ],
   "source": [
    "CityPop = []\n",
    "for element in root.findall('country'):\n",
    "    for subelement in element.getiterator('city'):\n",
    "        city = subelement.find('name').text\n",
    "        years = {}\n",
    "        for date in element.iterfind('./city/population'):\n",
    "            years.update({date.attrib['year']: int(date.text)})\n",
    "            try:\n",
    "                latest = years[str(max(map(int,years.keys())))]\n",
    "                CityPop.append((city, latest))\n",
    "            except:\n",
    "                continue\n",
    "CityPop.sort(key=lambda x: x[1])\n",
    "print map(lambda x: x[0],CityPop[-10:])"
   ]
  },
  {
   "cell_type": "raw",
   "metadata": {},
   "source": [
    "10 Largest Ethnic Groups "
   ]
  },
  {
   "cell_type": "code",
   "execution_count": 155,
   "metadata": {
    "collapsed": false
   },
   "outputs": [
    {
     "name": "stdout",
     "output_type": "stream",
     "text": [
      "['Mediterranean Nordic', 'English', 'Viet/Kinh', 'Mulatto', 'Eastern Hamitic', 'Japanese', 'Bengali', 'Dravidian', 'Indo-Aryan', 'Han Chinese']\n"
     ]
    }
   ],
   "source": [
    "#10 Largest Ethnic Groups with Large Populations\n",
    "CountryPop = []\n",
    "LEG = {}\n",
    "for i in range(len(root)):\n",
    "    country = root[i].find('name').text\n",
    "    year = {}\n",
    "    for subelement in root[i].iterfind('population'):\n",
    "        year.update({subelement.attrib['year']: int(subelement.text)})\n",
    "    try:    \n",
    "        uptodate = year[str(max(map(int,year.keys())))]\n",
    "        CountryPop.append((country, uptodate))\n",
    "        for demo in root[i].iterfind('ethnicgroup'):\n",
    "            pop = float(demo.attrib['percentage'])*uptodate\n",
    "            if demo in demo.keys():\n",
    "                LEG[demo.text] = LEG[demo.text] + pop\n",
    "            else:\n",
    "                LEG.update({demo.text: pop})\n",
    "    except:\n",
    "        continue\n",
    "        \n",
    "print sorted(LEG, key = LEG.get)[-10:]"
   ]
  },
  {
   "cell_type": "code",
   "execution_count": 179,
   "metadata": {
    "collapsed": false
   },
   "outputs": [
    {
     "name": "stdout",
     "output_type": "stream",
     "text": [
      "[('CO BR PE', 'Amazonas', 6448)]\n"
     ]
    }
   ],
   "source": [
    "#longest river\n",
    "river = []\n",
    "for i in range(len(root)):\n",
    "    for subelement in root[i].getiterator('river'):\n",
    "        try:\n",
    "            name = subelement.find('name').text\n",
    "            length = int(subelement.find('length').text)\n",
    "            country = subelement.attrib['country']\n",
    "            river.append((country, name, length))\n",
    "        except:\n",
    "            continue\n",
    "#print river \n",
    "river.sort(key=lambda x:x[2])\n",
    "print map(lambda x: x,river[-1:])"
   ]
  },
  {
   "cell_type": "markdown",
   "metadata": {
    "collapsed": true
   },
   "source": [
    "Highest Airport"
   ]
  },
  {
   "cell_type": "code",
   "execution_count": 11,
   "metadata": {
    "collapsed": false
   },
   "outputs": [
    {
     "name": "stdout",
     "output_type": "stream",
     "text": [
      "[(4063, 'El Alto Intl')]\n"
     ]
    }
   ],
   "source": [
    "#highest airport\n",
    "air = []\n",
    "for element in doc.iterfind('airport'):\n",
    "    for subelement in element.getiterator('airport'):\n",
    "        name = subelement.findtext('name')\n",
    "        ele = subelement.findtext('elevation')\n",
    "        if ele == '':\n",
    "            ele = 1\n",
    "        air.append((int(ele), name))\n",
    "air.sort(reverse=True)\n",
    "print air[0:1]"
   ]
  },
  {
   "cell_type": "code",
   "execution_count": 180,
   "metadata": {
    "collapsed": false
   },
   "outputs": [
    {
     "name": "stdout",
     "output_type": "stream",
     "text": [
      "[('R AZ KAZ IR TM', 'Caspian Sea')]\n"
     ]
    }
   ],
   "source": [
    "lakes = []\n",
    "for i in range(len(root)):\n",
    "    for subelement in root[i].getiterator('lake'):\n",
    "        try:\n",
    "            name = subelement.find('name').text\n",
    "            country = subelement.attrib['country']\n",
    "            area = int(subelement.find('area').text)\n",
    "            lakes.append((country,name,area))\n",
    "        except:\n",
    "            continue\n",
    "            \n",
    "lakes.sort(key=lambda x: x[2])\n",
    "\n",
    "print map(lambda x: x[:2],lakes[-1:])"
   ]
  }
 ],
 "metadata": {
  "kernelspec": {
   "display_name": "Python 2",
   "language": "python",
   "name": "python2"
  },
  "language_info": {
   "codemirror_mode": {
    "name": "ipython",
    "version": 2
   },
   "file_extension": ".py",
   "mimetype": "text/x-python",
   "name": "python",
   "nbconvert_exporter": "python",
   "pygments_lexer": "ipython2",
   "version": "2.7.10"
  }
 },
 "nbformat": 4,
 "nbformat_minor": 0
}
