{
 "cells": [
  {
   "cell_type": "markdown",
   "metadata": {},
   "source": [
    "## What is the true normal human body temperature? \n",
    "\n",
    "#### Background\n",
    "\n",
    "The mean normal body temperature was held to be 37$^{\\circ}$C or 98.6$^{\\circ}$F for more than 120 years since it was first conceptualized and reported by Carl Wunderlich in a famous 1868 book. In 1992, this value was revised to 36.8$^{\\circ}$C or 98.2$^{\\circ}$F. \n",
    "\n",
    "#### Exercise\n",
    "In this exercise, you will analyze a dataset of human body temperatures and employ the concepts of hypothesis testing, confidence intervals, and statistical significance.\n",
    "\n",
    "Answer the following questions **in this notebook below and submit to your Github account**. \n",
    "\n",
    "1.  Is the distribution of body temperatures normal? \n",
    "    - Remember that this is a condition for the CLT, and hence the statistical tests we are using, to apply. \n",
    "2.  Is the true population mean really 98.6 degrees F?\n",
    "    - Bring out the one sample hypothesis test! In this situation, is it approriate to apply a z-test or a t-test? How will the result be different?\n",
    "3.  At what temperature should we consider someone's temperature to be \"abnormal\"?\n",
    "    - Start by computing the margin of error and confidence interval.\n",
    "4.  Is there a significant difference between males and females in normal temperature?\n",
    "    - Set up and solve for a two sample hypothesis testing.\n",
    "\n",
    "You can include written notes in notebook cells using Markdown: \n",
    "   - In the control panel at the top, choose Cell > Cell Type > Markdown\n",
    "   - Markdown syntax: http://nestacms.com/docs/creating-content/markdown-cheat-sheet\n",
    "\n",
    "#### Resources\n",
    "\n",
    "+ Information and data sources: http://www.amstat.org/publications/jse/datasets/normtemp.txt, http://www.amstat.org/publications/jse/jse_data_archive.htm\n",
    "+ Markdown syntax: http://nestacms.com/docs/creating-content/markdown-cheat-sheet\n",
    "\n",
    "****"
   ]
  },
  {
   "cell_type": "code",
   "execution_count": 2,
   "metadata": {
    "collapsed": true
   },
   "outputs": [],
   "source": [
    "import pandas as pd\n",
    "import numpy as np\n",
    "import matplotlib.pyplot as plt\n",
    "%matplotlib inline "
   ]
  },
  {
   "cell_type": "code",
   "execution_count": 3,
   "metadata": {
    "collapsed": false
   },
   "outputs": [],
   "source": [
    "df = pd.read_csv('data/human_body_temperature.csv')"
   ]
  },
  {
   "cell_type": "code",
   "execution_count": 4,
   "metadata": {
    "collapsed": false
   },
   "outputs": [
    {
     "name": "stdout",
     "output_type": "stream",
     "text": [
      "Mean Body Temp:  98.2492307692\n",
      "Stnd Dev of Body Temps:  0.730357778905\n",
      "Min Body Temp: 96.3 100.8\n",
      "Number of People in Study: 130\n",
      "CLM:  0.0640566146952\n"
     ]
    },
    {
     "data": {
      "text/plain": [
       "(array([  4.,   6.,  15.,  29.,  27.,  30.,  15.,   1.,   2.,   1.]),\n",
       " array([  96.3 ,   96.75,   97.2 ,   97.65,   98.1 ,   98.55,   99.  ,\n",
       "          99.45,   99.9 ,  100.35,  100.8 ]),\n",
       " <a list of 10 Patch objects>)"
      ]
     },
     "execution_count": 4,
     "metadata": {},
     "output_type": "execute_result"
    },
    {
     "data": {
      "image/png": "[encoded data removed]",
      "text/plain": [
       "<matplotlib.figure.Figure at 0x9089860>"
      ]
     },
     "metadata": {},
     "output_type": "display_data"
    }
   ],
   "source": [
    "#Question 1)\n",
    "a = df.temperature\n",
    "av_body = np.average(a)\n",
    "dev_body = np.std(a)\n",
    "min_body = np.min(a)\n",
    "max_body = np.max(a)\n",
    "size = len(a)\n",
    "CLM = dev_body/np.sqrt(size)\n",
    "print \"Mean Body Temp: \", av_body\n",
    "print \"Stnd Dev of Body Temps: \", dev_body\n",
    "print \"Min Body Temp:\", min_body,  max_body\n",
    "print \"Number of People in Study:\", size\n",
    "print \"CLM: \", CLM\n",
    "plt.hist(a)"
   ]
  },
  {
   "cell_type": "markdown",
   "metadata": {},
   "source": [
    "Q1: \n",
    "-The distribution of the body temperatures is normal. \n",
    "-CLM = "
   ]
  },
  {
   "cell_type": "code",
   "execution_count": 5,
   "metadata": {
    "collapsed": false
   },
   "outputs": [
    {
     "name": "stdout",
     "output_type": "stream",
     "text": [
      "Z Test Results: 0.768550905554\n",
      "Mean Body temperature: 98.2492307692\n"
     ]
    }
   ],
   "source": [
    "# Question 2) -Z Test\n",
    "#Is the true population mean really 98.6 degrees F?\n",
    "#Bring out the one sample hypothesis test! In this situation,\n",
    "#is it approriate to apply a z-test or a t-test? How will the result be different?\n",
    "ZTest = (av_body-98.2)/(dev_body/(130**.5))\n",
    "print \"Z Test Results:\", ZTest\n",
    "print \"Mean Body temperature:\", av_body"
   ]
  },
  {
   "cell_type": "markdown",
   "metadata": {},
   "source": [
    "In this case the Z-Distribution was used, because we could find the standard deviation; If the sample is less than 30 the distribution will not be normally distributed, causing a T-distrubution. Since the equation for both tests are the same the answer will not vary for this problem. \n",
    "-For this problem I used the most current average body temperature."
   ]
  },
  {
   "cell_type": "code",
   "execution_count": 13,
   "metadata": {
    "collapsed": false
   },
   "outputs": [
    {
     "name": "stdout",
     "output_type": "stream",
     "text": [
      "Margin of Error: 0.105693414247\n",
      "Confidence Interval: 98.2626968064\n",
      "Abnormal temp 99.4050903352\n"
     ]
    }
   ],
   "source": [
    "# Question 3) \n",
    "#At what temperature should we consider someone's temperature to be \"abnormal\"?\n",
    "#Start by computing the margin of error and confidence interval.\n",
    "#95% confidence interval, 5% critical Z value = 1.65\n",
    "M_error = 1.65*(dev_body/np.sqrt(len(a)))\n",
    "print \"Margin of Error:\", M_error\n",
    "alfa = .05\n",
    "C_P = (1.0-alfa/2.0)\n",
    "D_F = len(a)-1\n",
    "C_V = (C_P*dev_body)/np.sqrt(D_F)\n",
    "#print C_P, dev_body, av_body\n",
    "#print \"Confidence Interval: \", 98.2, \"Plus/Minus:\", C_V\n",
    "#print \"Confidence Interval:\", 98.2 + C_V\n",
    "print 'Abnormal temp: ', 98.2+(1.65*dev_body)"
   ]
  },
  {
   "cell_type": "markdown",
   "metadata": {},
   "source": [
    "3) At what temperature should we consider someone's temperature to be \"abnormal\"?\n",
    "-Start by computing the margin of error and confidence interval.\n",
    "-The "
   ]
  },
  {
   "cell_type": "code",
   "execution_count": 24,
   "metadata": {
    "collapsed": false
   },
   "outputs": [
    {
     "name": "stdout",
     "output_type": "stream",
     "text": [
      "Male Average 98.1046153846\n",
      "Female Average 98.3938461538\n",
      "Hypothesis test: 0.289230769231\n",
      "0.2072015306\n"
     ]
    }
   ],
   "source": [
    "# Question 4) \n",
    "#Is there a significant difference between males and females in normal temperature?\n",
    "#Set up and solve for a two sample hypothesis testing.\n",
    "male = df[df.gender == 'M']\n",
    "male = male.temperature\n",
    "male_av = np.average(male)\n",
    "male_dev = np.std(male)\n",
    "female = df[df.gender == 'F']\n",
    "female = female.temperature\n",
    "female_av = np.average(female)\n",
    "female_dev = np.std(female)\n",
    "print 'Male Average', male_av\n",
    "print 'Female Average', female_av\n",
    "print 'Hypothesis test:', female_av-male_av\n",
    "print (((female_dev**2/len(female))+(male_dev**2/len(male)))**(1.0/2.0))*1.65"
   ]
  },
  {
   "cell_type": "markdown",
   "metadata": {},
   "source": [
    "Is there a significant difference between males and females in normal temperature?\n",
    "Set up and solve for a two sample hypothesis testing. 95% Confidence interval, signifigance value of 5%. Assuming that there is no difference in the temperatures for males and females, the hypothesis would be incorrect due to larger number that we got for the actual mean difference. Using 5% signifigance the value of .207 was the make the null hypothesis true, but the value of .289 proves the null hypothesis incorrect."
   ]
  }
 ],
 "metadata": {
  "kernelspec": {
   "display_name": "Python 2",
   "language": "python",
   "name": "python2"
  },
  "language_info": {
   "codemirror_mode": {
    "name": "ipython",
    "version": 2
   },
   "file_extension": ".py",
   "mimetype": "text/x-python",
   "name": "python",
   "nbconvert_exporter": "python",
   "pygments_lexer": "ipython2",
   "version": "2.7.11"
  }
 },
 "nbformat": 4,
 "nbformat_minor": 0
}
