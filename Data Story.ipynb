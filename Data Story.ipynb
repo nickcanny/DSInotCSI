{
 "cells": [
  {
   "cell_type": "code",
   "execution_count": 236,
   "metadata": {
    "collapsed": false
   },
   "outputs": [],
   "source": [
    "import pandas as pd\n",
    "import json, matplotlib.pyplot as plt\n",
    "%matplotlib inline\n",
    "from pandas.io.json import json_normalize"
   ]
  },
  {
   "cell_type": "code",
   "execution_count": 237,
   "metadata": {
    "collapsed": false,
    "scrolled": true
   },
   "outputs": [
    {
     "data": {
      "text/html": [
       "<div>\n",
       "<table border=\"1\" class=\"dataframe\">\n",
       "  <thead>\n",
       "    <tr style=\"text-align: right;\">\n",
       "      <th></th>\n",
       "      <th>IncidntNum</th>\n",
       "      <th>Category</th>\n",
       "      <th>Descript</th>\n",
       "      <th>DayOfWeek</th>\n",
       "      <th>Date</th>\n",
       "      <th>Time</th>\n",
       "      <th>PdDistrict</th>\n",
       "      <th>Resolution</th>\n",
       "      <th>Address</th>\n",
       "      <th>X</th>\n",
       "      <th>Y</th>\n",
       "      <th>Location</th>\n",
       "    </tr>\n",
       "  </thead>\n",
       "  <tbody>\n",
       "    <tr>\n",
       "      <th>0</th>\n",
       "      <td>50436712</td>\n",
       "      <td>ASSAULT</td>\n",
       "      <td>BATTERY</td>\n",
       "      <td>Wednesday</td>\n",
       "      <td>04/20/2005 12:00:00 AM</td>\n",
       "      <td>04:00</td>\n",
       "      <td>MISSION</td>\n",
       "      <td>NONE</td>\n",
       "      <td>18TH ST / CASTRO ST</td>\n",
       "      <td>-122.435003</td>\n",
       "      <td>37.760888</td>\n",
       "      <td>(37.7608878061245, -122.435002864271)</td>\n",
       "    </tr>\n",
       "    <tr>\n",
       "      <th>1</th>\n",
       "      <td>80049078</td>\n",
       "      <td>LARCENY/THEFT</td>\n",
       "      <td>GRAND THEFT FROM A BUILDING</td>\n",
       "      <td>Sunday</td>\n",
       "      <td>01/13/2008 12:00:00 AM</td>\n",
       "      <td>18:00</td>\n",
       "      <td>PARK</td>\n",
       "      <td>NONE</td>\n",
       "      <td>1100 Block of CLAYTON ST</td>\n",
       "      <td>-122.446838</td>\n",
       "      <td>37.762255</td>\n",
       "      <td>(37.7622550270122, -122.446837820235)</td>\n",
       "    </tr>\n",
       "    <tr>\n",
       "      <th>2</th>\n",
       "      <td>130366639</td>\n",
       "      <td>ASSAULT</td>\n",
       "      <td>AGGRAVATED ASSAULT WITH A KNIFE</td>\n",
       "      <td>Sunday</td>\n",
       "      <td>05/05/2013 12:00:00 AM</td>\n",
       "      <td>04:10</td>\n",
       "      <td>INGLESIDE</td>\n",
       "      <td>ARREST, BOOKED</td>\n",
       "      <td>0 Block of SGTJOHNVYOUNG LN</td>\n",
       "      <td>-122.444707</td>\n",
       "      <td>37.724931</td>\n",
       "      <td>(37.7249307267936, -122.444707063455)</td>\n",
       "    </tr>\n",
       "    <tr>\n",
       "      <th>3</th>\n",
       "      <td>30810835</td>\n",
       "      <td>DRIVING UNDER THE INFLUENCE</td>\n",
       "      <td>DRIVING WHILE UNDER THE INFLUENCE OF ALCOHOL</td>\n",
       "      <td>Tuesday</td>\n",
       "      <td>07/08/2003 12:00:00 AM</td>\n",
       "      <td>01:00</td>\n",
       "      <td>SOUTHERN</td>\n",
       "      <td>ARREST, BOOKED</td>\n",
       "      <td>MASON ST / TURK ST</td>\n",
       "      <td>-122.408954</td>\n",
       "      <td>37.783288</td>\n",
       "      <td>(37.7832878735491, -122.408953598286)</td>\n",
       "    </tr>\n",
       "    <tr>\n",
       "      <th>4</th>\n",
       "      <td>130839567</td>\n",
       "      <td>OTHER OFFENSES</td>\n",
       "      <td>TRAFFIC VIOLATION ARREST</td>\n",
       "      <td>Friday</td>\n",
       "      <td>10/04/2013 12:00:00 AM</td>\n",
       "      <td>20:53</td>\n",
       "      <td>TENDERLOIN</td>\n",
       "      <td>ARREST, BOOKED</td>\n",
       "      <td>TURK ST / LEAVENWORTH ST</td>\n",
       "      <td>-122.414056</td>\n",
       "      <td>37.782793</td>\n",
       "      <td>(37.7827931071006, -122.414056291891)</td>\n",
       "    </tr>\n",
       "  </tbody>\n",
       "</table>\n",
       "</div>"
      ],
      "text/plain": [
       "   IncidntNum                     Category  \\\n",
       "0    50436712                      ASSAULT   \n",
       "1    80049078                LARCENY/THEFT   \n",
       "2   130366639                      ASSAULT   \n",
       "3    30810835  DRIVING UNDER THE INFLUENCE   \n",
       "4   130839567               OTHER OFFENSES   \n",
       "\n",
       "                                       Descript  DayOfWeek  \\\n",
       "0                                       BATTERY  Wednesday   \n",
       "1                   GRAND THEFT FROM A BUILDING     Sunday   \n",
       "2               AGGRAVATED ASSAULT WITH A KNIFE     Sunday   \n",
       "3  DRIVING WHILE UNDER THE INFLUENCE OF ALCOHOL    Tuesday   \n",
       "4                      TRAFFIC VIOLATION ARREST     Friday   \n",
       "\n",
       "                     Date   Time  PdDistrict      Resolution  \\\n",
       "0  04/20/2005 12:00:00 AM  04:00     MISSION            NONE   \n",
       "1  01/13/2008 12:00:00 AM  18:00        PARK            NONE   \n",
       "2  05/05/2013 12:00:00 AM  04:10   INGLESIDE  ARREST, BOOKED   \n",
       "3  07/08/2003 12:00:00 AM  01:00    SOUTHERN  ARREST, BOOKED   \n",
       "4  10/04/2013 12:00:00 AM  20:53  TENDERLOIN  ARREST, BOOKED   \n",
       "\n",
       "                       Address           X          Y  \\\n",
       "0          18TH ST / CASTRO ST -122.435003  37.760888   \n",
       "1     1100 Block of CLAYTON ST -122.446838  37.762255   \n",
       "2  0 Block of SGTJOHNVYOUNG LN -122.444707  37.724931   \n",
       "3           MASON ST / TURK ST -122.408954  37.783288   \n",
       "4     TURK ST / LEAVENWORTH ST -122.414056  37.782793   \n",
       "\n",
       "                                Location  \n",
       "0  (37.7608878061245, -122.435002864271)  \n",
       "1  (37.7622550270122, -122.446837820235)  \n",
       "2  (37.7249307267936, -122.444707063455)  \n",
       "3  (37.7832878735491, -122.408953598286)  \n",
       "4  (37.7827931071006, -122.414056291891)  "
      ]
     },
     "execution_count": 237,
     "metadata": {},
     "output_type": "execute_result"
    }
   ],
   "source": [
    "SFCrime = pd.DataFrame.from_csv('Map__Crime.csv', index_col=None)\n",
    "#AllCrime = pd.read_json('SFCrimeData.json')\n",
    "SFCrime.head()"
   ]
  },
  {
   "cell_type": "code",
   "execution_count": 238,
   "metadata": {
    "collapsed": true
   },
   "outputs": [],
   "source": [
    "SFC = SFCrime"
   ]
  },
  {
   "cell_type": "code",
   "execution_count": 239,
   "metadata": {
    "collapsed": false
   },
   "outputs": [
    {
     "name": "stderr",
     "output_type": "stream",
     "text": [
      "C:\\Users\\sub\\Anaconda2\\lib\\site-packages\\ipykernel\\__main__.py:2: FutureWarning: sort(columns=....) is deprecated, use sort_values(by=.....)\n",
      "  from ipykernel import kernelapp as app\n"
     ]
    },
    {
     "data": {
      "text/plain": [
       "Category\n",
       "VEHICLE THEFT     113808\n",
       "ASSAULT           164515\n",
       "NON-CRIMINAL      199750\n",
       "OTHER OFFENSES    267982\n",
       "LARCENY/THEFT     383468\n",
       "dtype: int64"
      ]
     },
     "execution_count": 239,
     "metadata": {},
     "output_type": "execute_result"
    }
   ],
   "source": [
    "#1) Finding the largest commited offense\n",
    "CN = SFCrime.sort('Category')\n",
    "CN = CN.groupby(['Category']).size()\n",
    "CN.sort_values().tail()"
   ]
  },
  {
   "cell_type": "raw",
   "metadata": {},
   "source": [
    "Finding out that Larceny/Theft is the most common category of Crime in San Fransisco is only the start to this journey."
   ]
  },
  {
   "cell_type": "code",
   "execution_count": 240,
   "metadata": {
    "collapsed": false,
    "scrolled": true
   },
   "outputs": [
    {
     "data": {
      "text/plain": [
       "Time\n",
       "19:00    35157\n",
       "17:00    36036\n",
       "18:00    41111\n",
       "00:01    47746\n",
       "12:00    48687\n",
       "dtype: int64"
      ]
     },
     "execution_count": 240,
     "metadata": {},
     "output_type": "execute_result"
    },
    {
     "data": {
      "image/png": "[encoded data removed]",
      "text/plain": [
       "<matplotlib.figure.Figure at 0x3ec4ddd8>"
      ]
     },
     "metadata": {},
     "output_type": "display_data"
    }
   ],
   "source": [
    "#2) finding the most active time for offenses\n",
    "time = SFCrime.groupby(['Time']).size()\n",
    "time.plot()\n",
    "time.sort_values().tail()"
   ]
  },
  {
   "cell_type": "code",
   "execution_count": 241,
   "metadata": {
    "collapsed": false
   },
   "outputs": [
    {
     "data": {
      "text/plain": [
       "Category\n",
       "LARCENY/THEFT    38965\n",
       "dtype: int64"
      ]
     },
     "execution_count": 241,
     "metadata": {},
     "output_type": "execute_result"
    }
   ],
   "source": [
    "#2a) What crime is most commited around noon(11:00-13:00)\n",
    "CrimeTime = SFC[(SFC.Time >= \"11:00\")&(SFC.Time <\"13:00\")]\n",
    "CrimeTime = CrimeTime.groupby('Category').size().sort_values()\n",
    "CrimeTime.tail(1)"
   ]
  },
  {
   "cell_type": "raw",
   "metadata": {},
   "source": [
    "There is an interesting trend that you can see in the data, almost wave like for when crime happens. The spike at around noon is an interesting trend, while the nigth seems to bring more crime and the early hours bring less since most peope are sleeping."
   ]
  },
  {
   "cell_type": "code",
   "execution_count": 242,
   "metadata": {
    "collapsed": false
   },
   "outputs": [
    {
     "data": {
      "text/plain": [
       "DayOfWeek\n",
       "Monday       51027\n",
       "Sunday       52772\n",
       "Tuesday      52917\n",
       "Wednesday    53938\n",
       "Thursday     54030\n",
       "Saturday     59315\n",
       "Friday       59469\n",
       "dtype: int64"
      ]
     },
     "execution_count": 242,
     "metadata": {},
     "output_type": "execute_result"
    }
   ],
   "source": [
    "#3) Most crime active day for Larceny/Theft of the week\n",
    "date = SFCrime[SFCrime.Category == 'LARCENY/THEFT']\n",
    "date = date.groupby('DayOfWeek').size().sort_values()\n",
    "date\n",
    "#date.plot(type='scatter')"
   ]
  },
  {
   "cell_type": "raw",
   "metadata": {},
   "source": [
    "Friday seems to be the most dangerous day of the week. It could be from the stress of the work week makes people go crazy."
   ]
  },
  {
   "cell_type": "code",
   "execution_count": 243,
   "metadata": {
    "collapsed": false
   },
   "outputs": [
    {
     "data": {
      "text/plain": [
       "PdDistrict\n",
       "RICHMOND       96838\n",
       "PARK          106776\n",
       "TARAVAL       141283\n",
       "INGLESIDE     168665\n",
       "TENDERLOIN    171364\n",
       "CENTRAL       185444\n",
       "BAYVIEW       189944\n",
       "NORTHERN      227434\n",
       "MISSION       254077\n",
       "SOUTHERN      337350\n",
       "dtype: int64"
      ]
     },
     "execution_count": 243,
     "metadata": {},
     "output_type": "execute_result"
    }
   ],
   "source": [
    "#4) most active district by day of week\n",
    "ad = SFC.groupby(['PdDistrict']).size().sort_values()\n",
    "ad"
   ]
  },
  {
   "cell_type": "code",
   "execution_count": 244,
   "metadata": {
    "collapsed": false
   },
   "outputs": [
    {
     "data": {
      "text/plain": [
       "Descript\n",
       "SAFE BURGLARY OF A RESIDENCE WITH EXPLOSIVES                   1\n",
       "REFUSAL TO IDENTIFY                                            1\n",
       "UNSOLICITED FAX ADVERTISING                                    1\n",
       "FALSE REPRESENTATION TO SECONDHAND DEALER                      1\n",
       "ROBBERY, VEHICLE FOR HIRE, ATT., W/ KNIFE                      1\n",
       "ENCOURAGE MINOR TO USE OPIATES                                 1\n",
       "HAZARDOUS MATERIALS, TRANSPORT WITHOUT PERMIT                  1\n",
       "HAZARDOUS MATERIALS, STORE WITHOUT PERMIT                      1\n",
       "BOMBING OF POLICE BUILDING                                     1\n",
       "BIGAMY, INCEST, AND THE CRIME AGAINST NATURE (GENERAL)         1\n",
       "ASSAULT TO ROB BANK WITH A GUN                                 1\n",
       "BURGLARY,HOTEL UNDER CONSTRUCTION, ATT. FORCIBLE               1\n",
       "ASSAULT TO ROB ON THE STREET W/DEADLY WEAPON                   1\n",
       "TRANSPORTATION OF OPIUM                                        1\n",
       "ASSAULT, AGGRAVATED, ON POLICE OFFICER, W/ FULL AUTO           1\n",
       "ASSAULT, AGGRAVATED, ON POLICE OFFICER, W/ SEMI AUTO           1\n",
       "EMBEZZLEMENT, PETTY THEFT BY COLLECTOR                         1\n",
       "SNIPER SCOPE, POSSESSION OF                                    1\n",
       "ATTEMPTED HOMICIDE BY SNIPING                                  1\n",
       "HARASSING CHILD OR WARD BECAUSE OF PERSON'S EMPLOYMENT         1\n",
       "ENCOURAGE MINOR TO USE AMPHETAMINE                             1\n",
       "ENCOURAGE MINOR TO USE HALLUCINOGENIC                          1\n",
       "ENCOURAGE MINOR TO USE HEROIN                                  1\n",
       "ASSAULT TO ROB WITH BODILY FORCE                               1\n",
       "PUBLIC UTILITY INFORMATION, FRAUDULENTLY OBTAINING             1\n",
       "ENCOURAGE MINOR TO USE METH-AMPHETAMINE                        1\n",
       "VETERAN OR EX-SERVICEMAN, FALSE REPRESENTATION AS              1\n",
       "DISTURBANCE OF NON-RELIGIOUS, NON-POLITICAL ASSEMBLY           1\n",
       "PLANTING/CULTIVATING PEYOTE                                    1\n",
       "PERMIT VIOLATION, ADVERTISING HANDBILL DISTRIBUTION            1\n",
       "                                                           ...  \n",
       "PROBATION VIOLATION                                        16398\n",
       "VEHICLE, RECOVERED, AUTO                                   16640\n",
       "MISSING ADULT                                              17209\n",
       "MISCELLANEOUS INVESTIGATION                                17580\n",
       "MISSING JUVENILE                                           17910\n",
       "STOLEN TRUCK                                               18238\n",
       "RESISTING ARREST                                           18643\n",
       "CREDIT CARD, THEFT BY USE OF                               19212\n",
       "GRAND THEFT FROM A BUILDING                                20095\n",
       "FOUND PERSON                                               20147\n",
       "PETTY THEFT SHOPLIFTING                                    20560\n",
       "POSSESSION OF NARCOTICS PARAPHERNALIA                      20729\n",
       "PETTY THEFT FROM A BUILDING                                21728\n",
       "GRAND THEFT OF PROPERTY                                    24000\n",
       "ENROUTE TO OUTSIDE JURISDICTION                            24530\n",
       "FOUND PROPERTY                                             26742\n",
       "THREATS AGAINST LIFE                                       30874\n",
       "TRAFFIC VIOLATION                                          34224\n",
       "MALICIOUS MISCHIEF, VANDALISM                              34601\n",
       "PETTY THEFT OF PROPERTY                                    35621\n",
       "MALICIOUS MISCHIEF, VANDALISM OF VEHICLES                  38138\n",
       "PETTY THEFT FROM LOCKED AUTO                               42903\n",
       "SUSPICIOUS OCCURRENCE                                      46196\n",
       "AIDED CASE, MENTAL DISTURBED                               46597\n",
       "WARRANT ARREST                                             50212\n",
       "DRIVERS LICENSE, SUSPENDED OR REVOKED                      57275\n",
       "STOLEN AUTOMOBILE                                          57813\n",
       "BATTERY                                                    58130\n",
       "LOST PROPERTY                                              67503\n",
       "GRAND THEFT FROM LOCKED AUTO                              134098\n",
       "dtype: int64"
      ]
     },
     "execution_count": 244,
     "metadata": {},
     "output_type": "execute_result"
    }
   ],
   "source": [
    "#5) Description of Crime\n",
    "OutCome = SFC.groupby(['Descript'])\n",
    "OutCome.size().sort_values()"
   ]
  },
  {
   "cell_type": "raw",
   "metadata": {},
   "source": [
    "This shows the odd reality that San Fransicans live with. "
   ]
  },
  {
   "cell_type": "code",
   "execution_count": 245,
   "metadata": {
    "collapsed": false,
    "scrolled": true
   },
   "outputs": [
    {
     "data": {
      "text/plain": [
       "Resolution\n",
       "PROSECUTED FOR LESSER OFFENSE                  82\n",
       "CLEARED-CONTACT JUVENILE FOR MORE INFO        583\n",
       "JUVENILE DIVERTED                             686\n",
       "JUVENILE ADMONISHED                          3004\n",
       "EXCEPTIONAL CLEARANCE                        3661\n",
       "PROSECUTED BY OUTSIDE AGENCY                 5069\n",
       "JUVENILE CITED                               6579\n",
       "NOT PROSECUTED                               7680\n",
       "DISTRICT ATTORNEY REFUSES TO PROSECUTE       7954\n",
       "COMPLAINANT REFUSES TO PROSECUTE             8086\n",
       "JUVENILE BOOKED                             11730\n",
       "UNFOUNDED                                   21057\n",
       "PSYCHOPATHIC CASE                           29154\n",
       "LOCATED                                     34435\n",
       "ARREST, CITED                              154621\n",
       "ARREST, BOOKED                             443277\n",
       "NONE                                      1141518\n",
       "dtype: int64"
      ]
     },
     "execution_count": 245,
     "metadata": {},
     "output_type": "execute_result"
    }
   ],
   "source": [
    "#6) Resolution for crimes\n",
    "OutCome = SFC.groupby(['Resolution'])\n",
    "OutCome.size().sort_values()"
   ]
  },
  {
   "cell_type": "raw",
   "metadata": {},
   "source": [
    "The cops in San Fran seem to be very stern with criminals, which is a good thing. "
   ]
  },
  {
   "cell_type": "code",
   "execution_count": 246,
   "metadata": {
    "collapsed": false
   },
   "outputs": [
    {
     "data": {
      "text/plain": [
       "Resolution\n",
       "CLEARED-CONTACT JUVENILE FOR MORE INFO        2\n",
       "JUVENILE DIVERTED                             4\n",
       "PSYCHOPATHIC CASE                             5\n",
       "LOCATED                                      11\n",
       "PROSECUTED BY OUTSIDE AGENCY                 37\n",
       "JUVENILE ADMONISHED                          41\n",
       "COMPLAINANT REFUSES TO PROSECUTE             60\n",
       "DISTRICT ATTORNEY REFUSES TO PROSECUTE       63\n",
       "EXCEPTIONAL CLEARANCE                       145\n",
       "JUVENILE BOOKED                             169\n",
       "UNFOUNDED                                   303\n",
       "JUVENILE CITED                              362\n",
       "NOT PROSECUTED                              505\n",
       "ARREST, CITED                              3065\n",
       "ARREST, BOOKED                             6646\n",
       "NONE                                      81110\n",
       "dtype: int64"
      ]
     },
     "execution_count": 246,
     "metadata": {},
     "output_type": "execute_result"
    }
   ],
   "source": [
    "#7) from the Resolutions find out which category and resolution go hand in hand for Larceny/theft\n",
    "Verd = SFC[(SFC.Category == 'LARCENY/THEFT') & (SFC.PdDistrict =='SOUTHERN')]\n",
    "Verd = Verd.groupby('Resolution').size().sort_values()\n",
    "Verd"
   ]
  },
  {
   "cell_type": "code",
   "execution_count": 247,
   "metadata": {
    "collapsed": false
   },
   "outputs": [],
   "source": [
    "#8) Recent Year high crime involving Largeny/Theft (2015)\n",
    "import datetime \n",
    "years = []\n",
    "year = SFC[(SFC.Category == 'LARCENY/THEFT') & (SFC.PdDistrict =='SOUTHERN')]\n",
    "year = SFC.Date\n",
    "for i in year:\n",
    "    d = datetime.datetime.strptime(i, \"%m/%d/%Y %I:%M:%S %p\") \n",
    "    d = '{0:%Y}'.format(d,\"%Y\")\n",
    "    years.append(float(d))"
   ]
  },
  {
   "cell_type": "code",
   "execution_count": 248,
   "metadata": {
    "collapsed": false
   },
   "outputs": [
    {
     "data": {
      "text/plain": [
       "<matplotlib.axes._subplots.AxesSubplot at 0xc469b908>"
      ]
     },
     "execution_count": 248,
     "metadata": {},
     "output_type": "execute_result"
    },
    {
     "data": {
      "image/png": "[encoded data removed]",
      "text/plain": [
       "<matplotlib.figure.Figure at 0x4d889278>"
      ]
     },
     "metadata": {},
     "output_type": "display_data"
    }
   ],
   "source": [
    "# 8 plot\n",
    "newyears = pd.DataFrame(years)\n",
    "newyears.columns = ['Years']\n",
    "newyears = newyears.groupby('Years').size()\n",
    "newyears.plot()"
   ]
  },
  {
   "cell_type": "raw",
   "metadata": {},
   "source": [
    "Over the years the amount of Larceny/Theft has seemed to stay relitively constant, 2016 is not over yet and there seemes to be a slight upwards trend for the past years since 2011."
   ]
  },
  {
   "cell_type": "raw",
   "metadata": {
    "collapsed": false
   },
   "source": [
    "Conclusion:\n",
    "Though the data seems to show that since 2003 larceny/theft is the largest crime committed in San Fran and seems to be a steady occurance over the years with a slight increase in the last few years. "
   ]
  }
 ],
 "metadata": {
  "kernelspec": {
   "display_name": "Python 2",
   "language": "python",
   "name": "python2"
  },
  "language_info": {
   "codemirror_mode": {
    "name": "ipython",
    "version": 2
   },
   "file_extension": ".py",
   "mimetype": "text/x-python",
   "name": "python",
   "nbconvert_exporter": "python",
   "pygments_lexer": "ipython2",
   "version": "2.7.11"
  }
 },
 "nbformat": 4,
 "nbformat_minor": 0
}
