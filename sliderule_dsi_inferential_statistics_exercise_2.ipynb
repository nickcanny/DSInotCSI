{
 "cells": [
  {
   "cell_type": "markdown",
   "metadata": {},
   "source": [
    "\n",
    "### Examining racial discrimination in the US job market\n",
    "\n",
    "#### Background\n",
    "Racial discrimination continues to be pervasive in cultures throughout the world. Researchers examined the level of racial discrimination in the United States labor market by randomly assigning identical résumés black-sounding or white-sounding names and observing the impact on requests for interviews from employers.\n",
    "\n",
    "#### Data\n",
    "In the dataset provided, each row represents a resume. The 'race' column has two values, 'b' and 'w', indicating black-sounding and white-sounding. The column 'call' has two values, 1 and 0, indicating whether the resume received a call from employers or not.\n",
    "\n",
    "Note that the 'b' and 'w' values in race are assigned randomly to the resumes.\n",
    "\n",
    "#### Exercise\n",
    "You will perform a statistical analysis to establish whether race has a significant impact on the rate of callbacks for resumes.\n",
    "\n",
    "Answer the following questions **in this notebook below and submit to your Github account**. \n",
    "\n",
    "   1. What test is appropriate for this problem? Does CLT apply?\n",
    "   2. What are the null and alternate hypotheses?\n",
    "   3. Compute margin of error, confidence interval, and p-value.\n",
    "   4. Discuss statistical significance.\n",
    "\n",
    "You can include written notes in notebook cells using Markdown: \n",
    "   - In the control panel at the top, choose Cell > Cell Type > Markdown\n",
    "   - Markdown syntax: http://nestacms.com/docs/creating-content/markdown-cheat-sheet\n",
    "\n",
    "\n",
    "#### Resources\n",
    "+ Experiment information and data source: http://www.povertyactionlab.org/evaluation/discrimination-job-market-united-states\n",
    "+ Scipy statistical methods: http://docs.scipy.org/doc/scipy/reference/stats.html \n",
    "+ Markdown syntax: http://nestacms.com/docs/creating-content/markdown-cheat-sheet\n",
    "\n",
    "****"
   ]
  },
  {
   "cell_type": "code",
   "execution_count": 3,
   "metadata": {
    "collapsed": true
   },
   "outputs": [],
   "source": [
    "import pandas as pd\n",
    "import numpy as np\n",
    "from scipy import stats"
   ]
  },
  {
   "cell_type": "code",
   "execution_count": 4,
   "metadata": {
    "collapsed": false
   },
   "outputs": [
    {
     "data": {
      "text/plain": [
       "4870"
      ]
     },
     "execution_count": 4,
     "metadata": {},
     "output_type": "execute_result"
    }
   ],
   "source": [
    "data = pd.io.stata.read_stata('data/us_job_market_discrimination.dta')\n",
    "len(data)"
   ]
  },
  {
   "cell_type": "code",
   "execution_count": 5,
   "metadata": {
    "collapsed": false
   },
   "outputs": [
    {
     "name": "stdout",
     "output_type": "stream",
     "text": [
      "callback 157.0\n",
      "resumes sent 2435\n"
     ]
    }
   ],
   "source": [
    "# number of callbacks for balck-sounding names\n",
    "B_callback = sum(data[data.race=='b'].call)\n",
    "B_total = len(data[data.race=='b'])\n",
    "print 'callback', B_callback\n",
    "print 'resumes sent', B_total"
   ]
  },
  {
   "cell_type": "code",
   "execution_count": 6,
   "metadata": {
    "collapsed": false
   },
   "outputs": [
    {
     "name": "stdout",
     "output_type": "stream",
     "text": [
      "callback 235.0\n",
      "2435\n"
     ]
    }
   ],
   "source": [
    "W_callback = sum(data[data.race=='w'].call)\n",
    "W_total = len(data[data.race=='w'])\n",
    "print 'callback', W_callback\n",
    "print W_total"
   ]
  },
  {
   "cell_type": "code",
   "execution_count": 28,
   "metadata": {
    "collapsed": false
   },
   "outputs": [
    {
     "name": "stdout",
     "output_type": "stream",
     "text": [
      "0.0320328542094 0.0804928131417 0.00551323664517 5.81017218579 0.00013035452089\n",
      "Centeral Limit Theorem: 1.13208144665e-06\n",
      "Margin of error: 0.00013035452089\n",
      "Confidence Interval:  95 %\n",
      "Alpha value: 5\n",
      "P-Value 0.0804928131417\n"
     ]
    }
   ],
   "source": [
    "#P1 = Black, P2 = White\n",
    "P1 = B_callback/B_total\n",
    "P2 = W_callback/W_total\n",
    "alpha = .05\n",
    "P_value = P2-P1\n",
    "P_est_value = (W_callback+B_callback)/len(data)\n",
    "Sample_dist = (((2*P_est_value)*(1-P_est_value))/len(data))**(1.0/2.0) #sample stnd dev\n",
    "sigma = 0\n",
    "Z_score = (P_value-0)/Sample_dist\n",
    "\n",
    "Critical_Z = 1.96\n",
    "CLM = Sample_dist/len(data)\n",
    "M_error = 1.65*(Sample_dist/np.sqrt(len(data)))\n",
    "\n",
    "print P_value, P_est_value, Sample_dist, Z_score, M_error\n",
    "print \"Centeral Limit Theorem:\", CLM\n",
    "print 'Margin of error:', M_error\n",
    "print 'Confidence Interval: ', 95,'%'\n",
    "print 'Alpha value:', 5\n",
    "print 'P-Value', P_est_value"
   ]
  },
  {
   "cell_type": "markdown",
   "metadata": {
    "collapsed": false
   },
   "source": [
    "* 1) CLM, does apply to the current study.\n",
    "* 2) The Null hypothesis is that there is 95% chance is within .078 of the two \n",
    "difference in  from\n",
    "the callbacks, alternatly, there is a significan difference in the two. \n",
    "* 3)Margin of error:\n",
    "    Confidence interval:\n",
    "    P-Value\n",
    "* 4)Statistical Difference, if the null hypothesis of there is no difference is ture when the p value is greater or equal to the alpha value. In this case 5.8 is greater than 5 and therefore showing that the null hypothesis is correct in that the name of the applicant does not matter when looking for a job. "
   ]
  }
 ],
 "metadata": {
  "kernelspec": {
   "display_name": "Python 2",
   "language": "python",
   "name": "python2"
  },
  "language_info": {
   "codemirror_mode": {
    "name": "ipython",
    "version": 2
   },
   "file_extension": ".py",
   "mimetype": "text/x-python",
   "name": "python",
   "nbconvert_exporter": "python",
   "pygments_lexer": "ipython2",
   "version": "2.7.11"
  }
 },
 "nbformat": 4,
 "nbformat_minor": 0
}
